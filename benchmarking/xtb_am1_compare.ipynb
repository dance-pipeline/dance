{
 "cells": [
  {
   "cell_type": "code",
   "execution_count": 19,
   "id": "signal-saturday",
   "metadata": {},
   "outputs": [],
   "source": [
    "from openforcefield.topology import Molecule\n",
    "import qcengine\n",
    "import qcelemental as qcel\n",
    "from qcelemental.models import AtomicInput\n",
    "from qcelemental.models.common_models import Model\n",
    "from openeye import oequacpac, oechem"
   ]
  },
  {
   "cell_type": "code",
   "execution_count": 126,
   "id": "correct-joseph",
   "metadata": {},
   "outputs": [],
   "source": [
    "# for adaptation to script, loop this variable over a file\n",
    "sm_mol = \"C\""
   ]
  },
  {
   "cell_type": "code",
   "execution_count": 127,
   "id": "enabling-beverage",
   "metadata": {
    "scrolled": false
   },
   "outputs": [
    {
     "data": {
      "application/vnd.jupyter.widget-view+json": {
       "model_id": "027f57abb6694cd68bcee2fbfd3111e5",
       "version_major": 2,
       "version_minor": 0
      },
      "text/plain": [
       "NGLWidget()"
      ]
     },
     "metadata": {},
     "output_type": "display_data"
    }
   ],
   "source": [
    "# make a off toolkit molecule\n",
    "molecule = Molecule.from_smiles(sm_mol)\n",
    "molecule.generate_conformers()\n",
    "molecule"
   ]
  },
  {
   "cell_type": "code",
   "execution_count": 128,
   "id": "imposed-scenario",
   "metadata": {},
   "outputs": [],
   "source": [
    "# make qcelemental molecule to use with qcenging - for xtb\n",
    "qc_mol = molecule.to_qcschema()"
   ]
  },
  {
   "cell_type": "code",
   "execution_count": 129,
   "id": "classified-louisville",
   "metadata": {},
   "outputs": [
    {
     "name": "stdout",
     "output_type": "stream",
     "text": [
      "\n",
      "          ...................................................\n",
      "          :                      SETUP                      :\n",
      "          :.................................................:\n",
      "          :  # basis functions                   8          :\n",
      "          :  # atomic orbitals                   8          :\n",
      "          :  # shells                            6          :\n",
      "          :  # electrons                         8          :\n",
      "          :  max. iterations                   250          :\n",
      "          :  Hamiltonian                  GFN2-xTB          :\n",
      "          :  restarted?                       true          :\n",
      "          :  GBSA solvation                  false          :\n",
      "          :  PC potential                    false          :\n",
      "          :  electronic temp.          300.0000000     K    :\n",
      "          :  accuracy                    1.0000000          :\n",
      "          :  -> integral cutoff          0.2500000E+02      :\n",
      "          :  -> integral neglect         0.1000000E-07      :\n",
      "          :  -> SCF convergence          0.1000000E-05 Eh   :\n",
      "          :  -> wf. convergence          0.1000000E-03 e    :\n",
      "          :  Broyden damping             0.4000000          :\n",
      "          ...................................................\n",
      "\n",
      " iter      E             dE          RMSdq      gap      omega  full diag\n",
      "   1     -4.2288408 -0.422884E+01  0.245E+00   17.25       0.0  T\n",
      "   2     -4.2416652 -0.128244E-01  0.916E-01   17.07       1.0  T\n",
      "   3     -4.2418131 -0.147888E-03  0.502E-01   16.97       1.0  T\n",
      "   4     -4.2418597 -0.465469E-04  0.967E-02   16.85       1.0  T\n",
      "   5     -4.2418596  0.599059E-07  0.615E-03   16.85       7.3  T\n",
      "   6     -4.2418597 -0.109468E-06  0.181E-04   16.85     246.9  T\n",
      "   7     -4.2418597 -0.991669E-10  0.319E-06   16.85   14024.0  T\n",
      "\n",
      "   *** convergence criteria satisfied after 7 iterations ***\n",
      "\n",
      "         #    Occupation            Energy/Eh            Energy/eV\n",
      "      -------------------------------------------------------------\n",
      "         1        2.0000           -0.5801051             -15.7855\n",
      "         2        2.0000           -0.4667304             -12.7004\n",
      "         3        2.0000           -0.4667172             -12.7000\n",
      "         4        2.0000           -0.4667056             -12.6997 (HOMO)\n",
      "         5                          0.1525714               4.1517 (LUMO)\n",
      "         6                          0.2133229               5.8048\n",
      "         7                          0.2134890               5.8093\n",
      "         8                          0.2135633               5.8114\n",
      "      -------------------------------------------------------------\n",
      "                  HL-Gap            0.6192770 Eh           16.8514 eV\n",
      "             Fermi-level           -0.1570671 Eh           -4.2740 eV\n",
      "\n",
      " SCC (total)                   0 d,  0 h,  0 min,  0.004 sec\n",
      " SCC setup                      ...        0 min,  0.000 sec (  8.296%)\n",
      " Dispersion                     ...        0 min,  0.000 sec (  1.345%)\n",
      " classical contributions        ...        0 min,  0.000 sec (  0.604%)\n",
      " integral evaluation            ...        0 min,  0.000 sec ( 11.738%)\n",
      " iterations                     ...        0 min,  0.002 sec ( 60.419%)\n",
      " molecular gradient             ...        0 min,  0.000 sec ( 12.422%)\n",
      " printout                       ...        0 min,  0.000 sec (  3.913%)\n",
      "\n",
      "         :::::::::::::::::::::::::::::::::::::::::::::::::::::\n",
      "         ::                     SUMMARY                     ::\n",
      "         :::::::::::::::::::::::::::::::::::::::::::::::::::::\n",
      "         :: total energy              -4.174962699107 Eh    ::\n",
      "         :: gradient norm              0.013358261705 Eh/a0 ::\n",
      "         :: HOMO-LUMO gap             16.851384252865 eV    ::\n",
      "         ::.................................................::\n",
      "         :: SCC energy                -4.241859724133 Eh    ::\n",
      "         :: -> isotropic ES            0.001954214275 Eh    ::\n",
      "         :: -> anisotropic ES          0.002520206296 Eh    ::\n",
      "         :: -> anisotropic XC          0.003827410097 Eh    ::\n",
      "         :: -> dispersion             -0.000662665825 Eh    ::\n",
      "         :: repulsion energy           0.066897019061 Eh    ::\n",
      "\n"
     ]
    }
   ],
   "source": [
    "# create an xtb model for the program\n",
    "xtb_model = Model(method=\"gfn2-xtb\", basis=None)\n",
    "qc_task = AtomicInput(molecule=qc_mol, driver=\"energy\", model=xtb_model)\n",
    "\n",
    "# compute and display output\n",
    "result = qcengine.compute(input_data=qc_task, program=\"xtb\")\n",
    "\n",
    "print(result.dict()[\"stdout\"])"
   ]
  },
  {
   "cell_type": "code",
   "execution_count": 95,
   "id": "disturbed-secretariat",
   "metadata": {},
   "outputs": [
    {
     "data": {
      "text/plain": [
       "{'id': None,\n",
       " 'schema_name': 'qcschema_output',\n",
       " 'schema_version': 1,\n",
       " 'molecule': {'schema_name': 'qcschema_molecule',\n",
       "  'schema_version': 2,\n",
       "  'validated': True,\n",
       "  'symbols': array(['C', 'C', 'O', 'H', 'H', 'H', 'H', 'H', 'H'], dtype='<U1'),\n",
       "  'geometry': array([[ 2.00615820e+00, -5.06711530e-01, -1.09933000e-03],\n",
       "         [ 3.60951267e+00,  1.72458306e+00, -7.97534580e-01],\n",
       "         [ 2.86671423e+00,  2.50130220e+00, -3.25568170e+00],\n",
       "         [ 2.53095194e+00, -1.15425288e+00,  1.88985926e+00],\n",
       "         [-8.14200000e-05, -3.21260000e-04, -1.06395000e-03],\n",
       "         [ 2.23006866e+00, -2.07682879e+00, -1.33038667e+00],\n",
       "         [ 5.60946348e+00,  1.20201873e+00, -8.40105250e-01],\n",
       "         [ 3.35055854e+00,  3.30692363e+00,  5.07723010e-01],\n",
       "         [ 3.92823645e+00,  3.92941102e+00, -3.70622143e+00]]),\n",
       "  'name': 'C2H6O',\n",
       "  'molecular_charge': 0.0,\n",
       "  'molecular_multiplicity': 1,\n",
       "  'connectivity': [(0, 1, 1.0),\n",
       "   (0, 3, 1.0),\n",
       "   (0, 4, 1.0),\n",
       "   (0, 5, 1.0),\n",
       "   (1, 2, 1.0),\n",
       "   (1, 6, 1.0),\n",
       "   (1, 7, 1.0),\n",
       "   (2, 8, 1.0)],\n",
       "  'fix_com': False,\n",
       "  'fix_orientation': False,\n",
       "  'provenance': {'creator': 'QCElemental',\n",
       "   'version': 'v0.17.0',\n",
       "   'routine': 'qcelemental.molparse.from_schema'},\n",
       "  'extras': None},\n",
       " 'driver': <DriverEnum.energy: 'energy'>,\n",
       " 'model': {'method': 'gfn2-xtb', 'basis': None},\n",
       " 'keywords': {},\n",
       " 'protocols': {},\n",
       " 'extras': {'xtb': {'return_gradient': array([[ 0.00674546,  0.00805705, -0.00107967],\n",
       "          [ 0.00264843, -0.00114395,  0.00627315],\n",
       "          [-0.00586602, -0.00600976, -0.00046397],\n",
       "          [ 0.00028494, -0.00227063,  0.00398042],\n",
       "          [-0.0051149 , -0.00086227, -0.00047655],\n",
       "          [-0.00146441, -0.00428717, -0.00266685],\n",
       "          [-0.00293654,  0.00160384, -0.00257552],\n",
       "          [-0.00031707, -0.00081963, -0.00413263],\n",
       "          [ 0.00602011,  0.00573251,  0.00114162]]),\n",
       "   'mulliken_charges': array([-0.10749245,  0.09029866, -0.44477517,  0.03821527,  0.05280251,\n",
       "           0.05276413,  0.01788737,  0.01788746,  0.28241221]),\n",
       "   'mayer_indices': array([[ 0.00000000e+00,  1.02071376e+00,  6.21168659e-03,\n",
       "            9.85611211e-01,  9.85529286e-01,  9.85530522e-01,\n",
       "           -1.19554109e-04, -1.17738077e-04,  1.06570650e-02],\n",
       "          [ 1.02071376e+00,  0.00000000e+00,  9.88820019e-01,\n",
       "            1.29620381e-03, -2.34008122e-05, -2.45829792e-05,\n",
       "            9.73883765e-01,  9.73882631e-01,  3.31945866e-04],\n",
       "          [ 6.21168659e-03,  9.88820019e-01,  0.00000000e+00,\n",
       "            9.81244079e-03,  1.05295273e-03,  1.05132272e-03,\n",
       "            1.49390337e-02,  1.49368946e-02,  9.07555982e-01],\n",
       "          [ 9.85611211e-01,  1.29620381e-03,  9.81244079e-03,\n",
       "            0.00000000e+00,  1.90289432e-05,  1.95561681e-05,\n",
       "            2.68345479e-04,  2.69143748e-04,  1.24372120e-03],\n",
       "          [ 9.85529286e-01, -2.34008122e-05,  1.05295273e-03,\n",
       "            1.90289432e-05,  0.00000000e+00,  6.42219759e-05,\n",
       "            9.94553103e-03,  5.15085636e-04,  1.09167123e-04],\n",
       "          [ 9.85530522e-01, -2.45829792e-05,  1.05132272e-03,\n",
       "            1.95561681e-05,  6.42219759e-05,  0.00000000e+00,\n",
       "            5.17379614e-04,  9.94836679e-03,  1.09137846e-04],\n",
       "          [-1.19554109e-04,  9.73883765e-01,  1.49390337e-02,\n",
       "            2.68345479e-04,  9.94553103e-03,  5.17379614e-04,\n",
       "            0.00000000e+00,  1.27559214e-04,  1.18012366e-04],\n",
       "          [-1.17738077e-04,  9.73882631e-01,  1.49368946e-02,\n",
       "            2.69143748e-04,  5.15085636e-04,  9.94836679e-03,\n",
       "            1.27559214e-04,  0.00000000e+00,  1.18126614e-04],\n",
       "          [ 1.06570650e-02,  3.31945866e-04,  9.07555982e-01,\n",
       "            1.24372120e-03,  1.09167123e-04,  1.09137846e-04,\n",
       "            1.18012366e-04,  1.18126614e-04,  0.00000000e+00]])}},\n",
       " 'provenance': {'creator': 'xtb',\n",
       "  'version': '1.0.0',\n",
       "  'routine': 'xtb.qcschema.run_qcschema',\n",
       "  'qcengine_version': 'v0.17.0',\n",
       "  'cpu': 'AMD Ryzen 5 2500U with Radeon Vega Mobile Gfx',\n",
       "  'wall_time': 0.043300628662109375,\n",
       "  'hostname': 'origamimantis',\n",
       "  'username': 'eric'},\n",
       " 'properties': {'return_energy': -11.391278700845849,\n",
       "  'scf_dipole_moment': [0.5063781554561368,\n",
       "   0.28641515612379664,\n",
       "   0.40154178176746513]},\n",
       " 'wavefunction': None,\n",
       " 'return_result': -11.391278700845849,\n",
       " 'stdout': '\\n          ...................................................\\n          :                      SETUP                      :\\n          :.................................................:\\n          :  # basis functions                  18          :\\n          :  # atomic orbitals                  18          :\\n          :  # shells                           12          :\\n          :  # electrons                        20          :\\n          :  max. iterations                   250          :\\n          :  Hamiltonian                  GFN2-xTB          :\\n          :  restarted?                       true          :\\n          :  GBSA solvation                  false          :\\n          :  PC potential                    false          :\\n          :  electronic temp.          300.0000000     K    :\\n          :  accuracy                    1.0000000          :\\n          :  -> integral cutoff          0.2500000E+02      :\\n          :  -> integral neglect         0.1000000E-07      :\\n          :  -> SCF convergence          0.1000000E-05 Eh   :\\n          :  -> wf. convergence          0.1000000E-03 e    :\\n          :  Broyden damping             0.4000000          :\\n          ...................................................\\n\\n iter      E             dE          RMSdq      gap      omega  full diag\\n   1    -11.4871612 -0.114872E+02  0.370E+00   12.61       0.0  T\\n   2    -11.5089046 -0.217434E-01  0.195E+00   12.23       1.0  T\\n   3    -11.5093900 -0.485361E-03  0.804E-01   12.29       1.0  T\\n   4    -11.5095695 -0.179496E-03  0.129E-01   12.30       1.0  T\\n   5    -11.5095859 -0.163837E-04  0.678E-02   12.31       1.0  T\\n   6    -11.5095871 -0.120484E-05  0.113E-02   12.32       3.0  T\\n   7    -11.5095872 -0.126084E-06  0.343E-03   12.32       9.7  T\\n   8    -11.5095872 -0.894396E-08  0.114E-03   12.32      29.3  T\\n   9    -11.5095872 -0.205482E-08  0.166E-04   12.32     200.9  T\\n  10    -11.5095872 -0.154348E-10  0.363E-05   12.32     918.0  T\\n\\n   *** convergence criteria satisfied after 10 iterations ***\\n\\n         #    Occupation            Energy/Eh            Energy/eV\\n      -------------------------------------------------------------\\n         1        2.0000           -0.6845627             -18.6279\\n       ...           ...                  ...                  ...\\n         4        2.0000           -0.5663739             -15.4118\\n         5        2.0000           -0.5311506             -14.4533\\n         6        2.0000           -0.5069009             -13.7935\\n         7        2.0000           -0.4659929             -12.6803\\n         8        2.0000           -0.4587218             -12.4825\\n         9        2.0000           -0.4520746             -12.3016\\n        10        2.0000           -0.4080549             -11.1037 (HOMO)\\n        11                          0.0447462               1.2176 (LUMO)\\n        12                          0.1297311               3.5302\\n        13                          0.1322542               3.5988\\n        14                          0.1482967               4.0354\\n        15                          0.1757794               4.7832\\n       ...                                ...                  ...\\n        18                          0.2675223               7.2797\\n      -------------------------------------------------------------\\n                  HL-Gap            0.4528011 Eh           12.3213 eV\\n             Fermi-level           -0.1816544 Eh           -4.9431 eV\\n\\n SCC (total)                   0 d,  0 h,  0 min,  0.036 sec\\n SCC setup                      ...        0 min,  0.000 sec (  0.380%)\\n Dispersion                     ...        0 min,  0.000 sec (  0.126%)\\n classical contributions        ...        0 min,  0.000 sec (  0.050%)\\n integral evaluation            ...        0 min,  0.001 sec (  2.227%)\\n iterations                     ...        0 min,  0.031 sec ( 85.756%)\\n molecular gradient             ...        0 min,  0.004 sec ( 10.875%)\\n printout                       ...        0 min,  0.000 sec (  0.488%)\\n\\n         :::::::::::::::::::::::::::::::::::::::::::::::::::::\\n',\n",
       " 'stderr': None,\n",
       " 'success': True,\n",
       " 'error': None}"
      ]
     },
     "execution_count": 95,
     "metadata": {},
     "output_type": "execute_result"
    }
   ],
   "source": [
    "result.dict()"
   ]
  },
  {
   "cell_type": "code",
   "execution_count": 130,
   "id": "buried-administration",
   "metadata": {},
   "outputs": [
    {
     "data": {
      "text/plain": [
       "-4.17496269910726"
      ]
     },
     "execution_count": 130,
     "metadata": {},
     "output_type": "execute_result"
    }
   ],
   "source": [
    "result.return_result"
   ]
  },
  {
   "cell_type": "code",
   "execution_count": 7,
   "id": "extraordinary-gregory",
   "metadata": {},
   "outputs": [],
   "source": [
    "# make openeye molecule to use with openeye - for am1\n",
    "oe_mol = molecule.to_openeye()"
   ]
  },
  {
   "cell_type": "code",
   "execution_count": 8,
   "id": "southwest-correspondence",
   "metadata": {},
   "outputs": [
    {
     "data": {
      "text/plain": [
       "-61.07722556986846"
      ]
     },
     "execution_count": 8,
     "metadata": {},
     "output_type": "execute_result"
    }
   ],
   "source": [
    "calc = oequacpac.OEAM1()\n",
    "result = oequacpac.OEAM1Results()\n",
    "calc.CalcAM1(result, oe_mol)\n",
    "\n",
    "calc.GetResults(result)\n",
    "result.GetEnergy()"
   ]
  },
  {
   "cell_type": "code",
   "execution_count": 131,
   "id": "leading-demonstration",
   "metadata": {},
   "outputs": [],
   "source": [
    "def get_xtb(mol):\n",
    "    qc_mol = mol.to_qcschema()\n",
    "\n",
    "    xtb_model = Model(method=\"gfn2-xtb\", basis=None)\n",
    "    qc_task = AtomicInput(molecule=qc_mol, driver=\"energy\", model=xtb_model)\n",
    "\n",
    "    result = qcengine.compute(input_data=qc_task, program=\"xtb\")\n",
    "    \n",
    "    # xtb returns energy in hartree\n",
    "    return result.return_result * qcel.constants.conversion_factor(\"hartree\", \"kcal/mol\")\n",
    "\n",
    "import math\n",
    "\n",
    "def get_am1(mol):\n",
    "    oe_mol = mol.to_openeye()\n",
    "    calc = oequacpac.OEAM1()\n",
    "    result = oequacpac.OEAM1Results()\n",
    "    calc.CalcAM1(result, oe_mol)\n",
    "    # am1 returns energy in kcal/mol\n",
    "    return result.GetEnergy()\n",
    "\n",
    "def getEnergies(sm_mol : str) -> (\"xtb energy\", \"am1 energy\"):\n",
    "    molecule = 0\n",
    "    \n",
    "    try:\n",
    "        molecule = Molecule.from_smiles(sm_mol, allow_undefined_stereo=True)\n",
    "        molecule.generate_conformers()\n",
    "    except Exception:\n",
    "        return (None, None)\n",
    "    \n",
    "    return (get_xtb(molecule), get_am1(molecule))\n",
    "    "
   ]
  },
  {
   "cell_type": "code",
   "execution_count": 41,
   "id": "absolute-ability",
   "metadata": {},
   "outputs": [],
   "source": [
    "import matplotlib.pyplot as plt"
   ]
  },
  {
   "cell_type": "code",
   "execution_count": 135,
   "id": "quick-harrison",
   "metadata": {},
   "outputs": [
    {
     "name": "stdout",
     "output_type": "stream",
     "text": [
      "-2619.828646357644 -8.090482879084448\n"
     ]
    }
   ],
   "source": [
    "aa, bb = getEnergies(\"C\")\n",
    "print(aa,bb)"
   ]
  },
  {
   "cell_type": "code",
   "execution_count": 132,
   "id": "naval-wilderness",
   "metadata": {
    "scrolled": true
   },
   "outputs": [
    {
     "name": "stderr",
     "output_type": "stream",
     "text": [
      "Warning (not error because allow_undefined_stereo=True): OEMol has unspecified stereochemistry. oemol.GetTitle(): \n",
      "Problematic atoms are:\n",
      "Atom atomic num: 6, name: , idx: 10, aromatic: False, chiral: True with bonds:\n",
      "bond order: 1, chiral: False to atom atomic num: 8, name: , idx: 9, aromatic: False, chiral: False\n",
      "bond order: 1, chiral: False to atom atomic num: 6, name: , idx: 29, aromatic: False, chiral: False\n",
      "bond order: 1, chiral: False to atom atomic num: 6, name: , idx: 11, aromatic: False, chiral: False\n",
      "bond order: 1, chiral: False to atom atomic num: 1, name: , idx: 54, aromatic: False, chiral: False\n",
      "Atom atomic num: 6, name: , idx: 15, aromatic: False, chiral: True with bonds:\n",
      "bond order: 1, chiral: False to atom atomic num: 6, name: , idx: 13, aromatic: False, chiral: True\n",
      "bond order: 1, chiral: False to atom atomic num: 6, name: , idx: 25, aromatic: False, chiral: True\n",
      "bond order: 1, chiral: False to atom atomic num: 6, name: , idx: 16, aromatic: False, chiral: False\n",
      "bond order: 1, chiral: False to atom atomic num: 1, name: , idx: 62, aromatic: False, chiral: False\n",
      "Atom atomic num: 6, name: , idx: 24, aromatic: False, chiral: True with bonds:\n",
      "bond order: 1, chiral: False to atom atomic num: 6, name: , idx: 23, aromatic: False, chiral: False\n",
      "bond order: 1, chiral: False to atom atomic num: 6, name: , idx: 18, aromatic: False, chiral: True\n",
      "bond order: 1, chiral: False to atom atomic num: 6, name: , idx: 25, aromatic: False, chiral: True\n",
      "bond order: 1, chiral: False to atom atomic num: 1, name: , idx: 74, aromatic: False, chiral: False\n",
      "Atom atomic num: 6, name: , idx: 25, aromatic: False, chiral: True with bonds:\n",
      "bond order: 1, chiral: False to atom atomic num: 6, name: , idx: 24, aromatic: False, chiral: True\n",
      "bond order: 1, chiral: False to atom atomic num: 6, name: , idx: 15, aromatic: False, chiral: True\n",
      "bond order: 1, chiral: False to atom atomic num: 6, name: , idx: 26, aromatic: False, chiral: False\n",
      "bond order: 1, chiral: False to atom atomic num: 1, name: , idx: 75, aromatic: False, chiral: False\n",
      "\n",
      "Warning (not error because allow_undefined_stereo=True): OEMol has unspecified stereochemistry. oemol.GetTitle(): \n",
      "Problematic atoms are:\n",
      "Atom atomic num: 6, name: , idx: 10, aromatic: False, chiral: True with bonds:\n",
      "bond order: 1, chiral: False to atom atomic num: 8, name: , idx: 9, aromatic: False, chiral: False\n",
      "bond order: 1, chiral: False to atom atomic num: 6, name: , idx: 29, aromatic: False, chiral: False\n",
      "bond order: 1, chiral: False to atom atomic num: 6, name: , idx: 11, aromatic: False, chiral: False\n",
      "bond order: 1, chiral: False to atom atomic num: 1, name: , idx: 54, aromatic: False, chiral: False\n",
      "Atom atomic num: 6, name: , idx: 15, aromatic: False, chiral: True with bonds:\n",
      "bond order: 1, chiral: False to atom atomic num: 6, name: , idx: 13, aromatic: False, chiral: True\n",
      "bond order: 1, chiral: False to atom atomic num: 6, name: , idx: 25, aromatic: False, chiral: True\n",
      "bond order: 1, chiral: False to atom atomic num: 6, name: , idx: 16, aromatic: False, chiral: False\n",
      "bond order: 1, chiral: False to atom atomic num: 1, name: , idx: 62, aromatic: False, chiral: False\n",
      "Atom atomic num: 6, name: , idx: 24, aromatic: False, chiral: True with bonds:\n",
      "bond order: 1, chiral: False to atom atomic num: 6, name: , idx: 18, aromatic: False, chiral: True\n",
      "bond order: 1, chiral: False to atom atomic num: 6, name: , idx: 23, aromatic: False, chiral: False\n",
      "bond order: 1, chiral: False to atom atomic num: 6, name: , idx: 25, aromatic: False, chiral: True\n",
      "bond order: 1, chiral: False to atom atomic num: 1, name: , idx: 74, aromatic: False, chiral: False\n",
      "Atom atomic num: 6, name: , idx: 25, aromatic: False, chiral: True with bonds:\n",
      "bond order: 1, chiral: False to atom atomic num: 6, name: , idx: 15, aromatic: False, chiral: True\n",
      "bond order: 1, chiral: False to atom atomic num: 6, name: , idx: 24, aromatic: False, chiral: True\n",
      "bond order: 1, chiral: False to atom atomic num: 6, name: , idx: 26, aromatic: False, chiral: False\n",
      "bond order: 1, chiral: False to atom atomic num: 1, name: , idx: 75, aromatic: False, chiral: False\n",
      "\n",
      "Warning (not error because allow_undefined_stereo=True): OEMol has unspecified stereochemistry. oemol.GetTitle(): \n",
      "Problematic atoms are:\n",
      "Atom atomic num: 6, name: , idx: 21, aromatic: False, chiral: True with bonds:\n",
      "bond order: 1, chiral: False to atom atomic num: 6, name: , idx: 20, aromatic: False, chiral: False\n",
      "bond order: 1, chiral: False to atom atomic num: 17, name: , idx: 22, aromatic: False, chiral: False\n",
      "bond order: 1, chiral: False to atom atomic num: 6, name: , idx: 23, aromatic: False, chiral: False\n",
      "bond order: 1, chiral: False to atom atomic num: 1, name: , idx: 58, aromatic: False, chiral: False\n",
      "\n"
     ]
    },
    {
     "name": "stdout",
     "output_type": "stream",
     "text": [
      "finished: 0\n"
     ]
    },
    {
     "name": "stderr",
     "output_type": "stream",
     "text": [
      "Warning (not error because allow_undefined_stereo=True): OEMol has unspecified stereochemistry. oemol.GetTitle(): \n",
      "Problematic atoms are:\n",
      "Atom atomic num: 6, name: , idx: 21, aromatic: False, chiral: True with bonds:\n",
      "bond order: 1, chiral: False to atom atomic num: 6, name: , idx: 20, aromatic: False, chiral: False\n",
      "bond order: 1, chiral: False to atom atomic num: 17, name: , idx: 22, aromatic: False, chiral: False\n",
      "bond order: 1, chiral: False to atom atomic num: 6, name: , idx: 23, aromatic: False, chiral: False\n",
      "bond order: 1, chiral: False to atom atomic num: 1, name: , idx: 58, aromatic: False, chiral: False\n",
      "\n",
      "Warning (not error because allow_undefined_stereo=True): OEMol has unspecified stereochemistry. oemol.GetTitle(): \n",
      "Problematic atoms are:\n",
      "Atom atomic num: 6, name: , idx: 13, aromatic: False, chiral: True with bonds:\n",
      "bond order: 1, chiral: False to atom atomic num: 6, name: , idx: 12, aromatic: False, chiral: False\n",
      "bond order: 1, chiral: False to atom atomic num: 6, name: , idx: 27, aromatic: False, chiral: True\n",
      "bond order: 1, chiral: False to atom atomic num: 6, name: , idx: 14, aromatic: False, chiral: True\n",
      "bond order: 1, chiral: False to atom atomic num: 1, name: , idx: 53, aromatic: False, chiral: False\n",
      "Atom atomic num: 6, name: , idx: 14, aromatic: False, chiral: True with bonds:\n",
      "bond order: 1, chiral: False to atom atomic num: 6, name: , idx: 13, aromatic: False, chiral: True\n",
      "bond order: 1, chiral: False to atom atomic num: 6, name: , idx: 24, aromatic: False, chiral: True\n",
      "bond order: 1, chiral: False to atom atomic num: 6, name: , idx: 15, aromatic: False, chiral: False\n",
      "bond order: 1, chiral: False to atom atomic num: 1, name: , idx: 54, aromatic: False, chiral: False\n",
      "Atom atomic num: 6, name: , idx: 19, aromatic: False, chiral: True with bonds:\n",
      "bond order: 1, chiral: False to atom atomic num: 6, name: , idx: 18, aromatic: False, chiral: False\n",
      "bond order: 1, chiral: False to atom atomic num: 6, name: , idx: 20, aromatic: False, chiral: False\n",
      "bond order: 1, chiral: False to atom atomic num: 8, name: , idx: 29, aromatic: False, chiral: False\n",
      "bond order: 1, chiral: False to atom atomic num: 1, name: , idx: 60, aromatic: False, chiral: False\n",
      "Atom atomic num: 6, name: , idx: 24, aromatic: False, chiral: True with bonds:\n",
      "bond order: 1, chiral: False to atom atomic num: 6, name: , idx: 22, aromatic: False, chiral: True\n",
      "bond order: 1, chiral: False to atom atomic num: 6, name: , idx: 14, aromatic: False, chiral: True\n",
      "bond order: 1, chiral: False to atom atomic num: 6, name: , idx: 25, aromatic: False, chiral: False\n",
      "bond order: 1, chiral: False to atom atomic num: 1, name: , idx: 68, aromatic: False, chiral: False\n",
      "\n",
      "Warning (not error because allow_undefined_stereo=True): OEMol has unspecified stereochemistry. oemol.GetTitle(): \n",
      "Problematic atoms are:\n",
      "Atom atomic num: 6, name: , idx: 13, aromatic: False, chiral: True with bonds:\n",
      "bond order: 1, chiral: False to atom atomic num: 6, name: , idx: 12, aromatic: False, chiral: False\n",
      "bond order: 1, chiral: False to atom atomic num: 6, name: , idx: 27, aromatic: False, chiral: True\n",
      "bond order: 1, chiral: False to atom atomic num: 6, name: , idx: 14, aromatic: False, chiral: True\n",
      "bond order: 1, chiral: False to atom atomic num: 1, name: , idx: 53, aromatic: False, chiral: False\n",
      "Atom atomic num: 6, name: , idx: 14, aromatic: False, chiral: True with bonds:\n",
      "bond order: 1, chiral: False to atom atomic num: 6, name: , idx: 13, aromatic: False, chiral: True\n",
      "bond order: 1, chiral: False to atom atomic num: 6, name: , idx: 24, aromatic: False, chiral: True\n",
      "bond order: 1, chiral: False to atom atomic num: 6, name: , idx: 15, aromatic: False, chiral: False\n",
      "bond order: 1, chiral: False to atom atomic num: 1, name: , idx: 54, aromatic: False, chiral: False\n",
      "Atom atomic num: 6, name: , idx: 19, aromatic: False, chiral: True with bonds:\n",
      "bond order: 1, chiral: False to atom atomic num: 6, name: , idx: 18, aromatic: False, chiral: False\n",
      "bond order: 1, chiral: False to atom atomic num: 6, name: , idx: 20, aromatic: False, chiral: False\n",
      "bond order: 1, chiral: False to atom atomic num: 8, name: , idx: 29, aromatic: False, chiral: False\n",
      "bond order: 1, chiral: False to atom atomic num: 1, name: , idx: 60, aromatic: False, chiral: False\n",
      "Atom atomic num: 6, name: , idx: 24, aromatic: False, chiral: True with bonds:\n",
      "bond order: 1, chiral: False to atom atomic num: 6, name: , idx: 14, aromatic: False, chiral: True\n",
      "bond order: 1, chiral: False to atom atomic num: 6, name: , idx: 22, aromatic: False, chiral: True\n",
      "bond order: 1, chiral: False to atom atomic num: 6, name: , idx: 25, aromatic: False, chiral: False\n",
      "bond order: 1, chiral: False to atom atomic num: 1, name: , idx: 68, aromatic: False, chiral: False\n",
      "\n",
      "Warning (not error because allow_undefined_stereo=True): OEMol has unspecified stereochemistry. oemol.GetTitle(): \n",
      "Problematic atoms are:\n",
      "Atom atomic num: 6, name: , idx: 16, aromatic: False, chiral: True with bonds:\n",
      "bond order: 1, chiral: False to atom atomic num: 8, name: , idx: 15, aromatic: False, chiral: False\n",
      "bond order: 1, chiral: False to atom atomic num: 6, name: , idx: 35, aromatic: False, chiral: False\n",
      "bond order: 1, chiral: False to atom atomic num: 6, name: , idx: 17, aromatic: False, chiral: False\n",
      "bond order: 1, chiral: False to atom atomic num: 1, name: , idx: 72, aromatic: False, chiral: False\n",
      "Atom atomic num: 6, name: , idx: 21, aromatic: False, chiral: True with bonds:\n",
      "bond order: 1, chiral: False to atom atomic num: 6, name: , idx: 19, aromatic: False, chiral: True\n",
      "bond order: 1, chiral: False to atom atomic num: 6, name: , idx: 31, aromatic: False, chiral: True\n",
      "bond order: 1, chiral: False to atom atomic num: 6, name: , idx: 22, aromatic: False, chiral: False\n",
      "bond order: 1, chiral: False to atom atomic num: 1, name: , idx: 80, aromatic: False, chiral: False\n",
      "Atom atomic num: 6, name: , idx: 30, aromatic: False, chiral: True with bonds:\n",
      "bond order: 1, chiral: False to atom atomic num: 6, name: , idx: 29, aromatic: False, chiral: False\n",
      "bond order: 1, chiral: False to atom atomic num: 6, name: , idx: 24, aromatic: False, chiral: True\n",
      "bond order: 1, chiral: False to atom atomic num: 6, name: , idx: 31, aromatic: False, chiral: True\n",
      "bond order: 1, chiral: False to atom atomic num: 1, name: , idx: 92, aromatic: False, chiral: False\n",
      "Atom atomic num: 6, name: , idx: 31, aromatic: False, chiral: True with bonds:\n",
      "bond order: 1, chiral: False to atom atomic num: 6, name: , idx: 30, aromatic: False, chiral: True\n",
      "bond order: 1, chiral: False to atom atomic num: 6, name: , idx: 21, aromatic: False, chiral: True\n",
      "bond order: 1, chiral: False to atom atomic num: 6, name: , idx: 32, aromatic: False, chiral: False\n",
      "bond order: 1, chiral: False to atom atomic num: 1, name: , idx: 93, aromatic: False, chiral: False\n",
      "\n",
      "Warning (not error because allow_undefined_stereo=True): OEMol has unspecified stereochemistry. oemol.GetTitle(): \n",
      "Problematic atoms are:\n",
      "Atom atomic num: 6, name: , idx: 16, aromatic: False, chiral: True with bonds:\n",
      "bond order: 1, chiral: False to atom atomic num: 8, name: , idx: 15, aromatic: False, chiral: False\n",
      "bond order: 1, chiral: False to atom atomic num: 6, name: , idx: 35, aromatic: False, chiral: False\n",
      "bond order: 1, chiral: False to atom atomic num: 6, name: , idx: 17, aromatic: False, chiral: False\n",
      "bond order: 1, chiral: False to atom atomic num: 1, name: , idx: 72, aromatic: False, chiral: False\n",
      "Atom atomic num: 6, name: , idx: 21, aromatic: False, chiral: True with bonds:\n",
      "bond order: 1, chiral: False to atom atomic num: 6, name: , idx: 19, aromatic: False, chiral: True\n",
      "bond order: 1, chiral: False to atom atomic num: 6, name: , idx: 31, aromatic: False, chiral: True\n",
      "bond order: 1, chiral: False to atom atomic num: 6, name: , idx: 22, aromatic: False, chiral: False\n",
      "bond order: 1, chiral: False to atom atomic num: 1, name: , idx: 80, aromatic: False, chiral: False\n",
      "Atom atomic num: 6, name: , idx: 30, aromatic: False, chiral: True with bonds:\n",
      "bond order: 1, chiral: False to atom atomic num: 6, name: , idx: 24, aromatic: False, chiral: True\n",
      "bond order: 1, chiral: False to atom atomic num: 6, name: , idx: 29, aromatic: False, chiral: False\n",
      "bond order: 1, chiral: False to atom atomic num: 6, name: , idx: 31, aromatic: False, chiral: True\n",
      "bond order: 1, chiral: False to atom atomic num: 1, name: , idx: 92, aromatic: False, chiral: False\n",
      "Atom atomic num: 6, name: , idx: 31, aromatic: False, chiral: True with bonds:\n",
      "bond order: 1, chiral: False to atom atomic num: 6, name: , idx: 21, aromatic: False, chiral: True\n",
      "bond order: 1, chiral: False to atom atomic num: 6, name: , idx: 30, aromatic: False, chiral: True\n",
      "bond order: 1, chiral: False to atom atomic num: 6, name: , idx: 32, aromatic: False, chiral: False\n",
      "bond order: 1, chiral: False to atom atomic num: 1, name: , idx: 93, aromatic: False, chiral: False\n",
      "\n"
     ]
    },
    {
     "name": "stderr",
     "output_type": "stream",
     "text": [
      "Warning (not error because allow_undefined_stereo=True): OEMol has unspecified stereochemistry. oemol.GetTitle(): \n",
      "Problematic atoms are:\n",
      "Atom atomic num: 6, name: , idx: 11, aromatic: False, chiral: True with bonds:\n",
      "bond order: 1, chiral: False to atom atomic num: 8, name: , idx: 10, aromatic: False, chiral: False\n",
      "bond order: 1, chiral: False to atom atomic num: 6, name: , idx: 30, aromatic: False, chiral: False\n",
      "bond order: 1, chiral: False to atom atomic num: 6, name: , idx: 12, aromatic: False, chiral: False\n",
      "bond order: 1, chiral: False to atom atomic num: 1, name: , idx: 57, aromatic: False, chiral: False\n",
      "Atom atomic num: 6, name: , idx: 16, aromatic: False, chiral: True with bonds:\n",
      "bond order: 1, chiral: False to atom atomic num: 6, name: , idx: 14, aromatic: False, chiral: True\n",
      "bond order: 1, chiral: False to atom atomic num: 6, name: , idx: 26, aromatic: False, chiral: True\n",
      "bond order: 1, chiral: False to atom atomic num: 6, name: , idx: 17, aromatic: False, chiral: False\n",
      "bond order: 1, chiral: False to atom atomic num: 1, name: , idx: 65, aromatic: False, chiral: False\n",
      "Atom atomic num: 6, name: , idx: 25, aromatic: False, chiral: True with bonds:\n",
      "bond order: 1, chiral: False to atom atomic num: 6, name: , idx: 24, aromatic: False, chiral: False\n",
      "bond order: 1, chiral: False to atom atomic num: 6, name: , idx: 19, aromatic: False, chiral: True\n",
      "bond order: 1, chiral: False to atom atomic num: 6, name: , idx: 26, aromatic: False, chiral: True\n",
      "bond order: 1, chiral: False to atom atomic num: 1, name: , idx: 77, aromatic: False, chiral: False\n",
      "Atom atomic num: 6, name: , idx: 26, aromatic: False, chiral: True with bonds:\n",
      "bond order: 1, chiral: False to atom atomic num: 6, name: , idx: 25, aromatic: False, chiral: True\n",
      "bond order: 1, chiral: False to atom atomic num: 6, name: , idx: 16, aromatic: False, chiral: True\n",
      "bond order: 1, chiral: False to atom atomic num: 6, name: , idx: 27, aromatic: False, chiral: False\n",
      "bond order: 1, chiral: False to atom atomic num: 1, name: , idx: 78, aromatic: False, chiral: False\n",
      "\n",
      "Warning (not error because allow_undefined_stereo=True): OEMol has unspecified stereochemistry. oemol.GetTitle(): \n",
      "Problematic atoms are:\n",
      "Atom atomic num: 6, name: , idx: 11, aromatic: False, chiral: True with bonds:\n",
      "bond order: 1, chiral: False to atom atomic num: 8, name: , idx: 10, aromatic: False, chiral: False\n",
      "bond order: 1, chiral: False to atom atomic num: 6, name: , idx: 30, aromatic: False, chiral: False\n",
      "bond order: 1, chiral: False to atom atomic num: 6, name: , idx: 12, aromatic: False, chiral: False\n",
      "bond order: 1, chiral: False to atom atomic num: 1, name: , idx: 57, aromatic: False, chiral: False\n",
      "Atom atomic num: 6, name: , idx: 16, aromatic: False, chiral: True with bonds:\n",
      "bond order: 1, chiral: False to atom atomic num: 6, name: , idx: 14, aromatic: False, chiral: True\n",
      "bond order: 1, chiral: False to atom atomic num: 6, name: , idx: 26, aromatic: False, chiral: True\n",
      "bond order: 1, chiral: False to atom atomic num: 6, name: , idx: 17, aromatic: False, chiral: False\n",
      "bond order: 1, chiral: False to atom atomic num: 1, name: , idx: 65, aromatic: False, chiral: False\n",
      "Atom atomic num: 6, name: , idx: 25, aromatic: False, chiral: True with bonds:\n",
      "bond order: 1, chiral: False to atom atomic num: 6, name: , idx: 19, aromatic: False, chiral: True\n",
      "bond order: 1, chiral: False to atom atomic num: 6, name: , idx: 24, aromatic: False, chiral: False\n",
      "bond order: 1, chiral: False to atom atomic num: 6, name: , idx: 26, aromatic: False, chiral: True\n",
      "bond order: 1, chiral: False to atom atomic num: 1, name: , idx: 77, aromatic: False, chiral: False\n",
      "Atom atomic num: 6, name: , idx: 26, aromatic: False, chiral: True with bonds:\n",
      "bond order: 1, chiral: False to atom atomic num: 6, name: , idx: 16, aromatic: False, chiral: True\n",
      "bond order: 1, chiral: False to atom atomic num: 6, name: , idx: 25, aromatic: False, chiral: True\n",
      "bond order: 1, chiral: False to atom atomic num: 6, name: , idx: 27, aromatic: False, chiral: False\n",
      "bond order: 1, chiral: False to atom atomic num: 1, name: , idx: 78, aromatic: False, chiral: False\n",
      "\n",
      "Warning (not error because allow_undefined_stereo=True): OEMol has unspecified stereochemistry. oemol.GetTitle(): \n",
      "Problematic atoms are:\n",
      "Atom atomic num: 6, name: , idx: 3, aromatic: False, chiral: True with bonds:\n",
      "bond order: 1, chiral: False to atom atomic num: 6, name: , idx: 1, aromatic: False, chiral: False\n",
      "bond order: 1, chiral: False to atom atomic num: 6, name: , idx: 10, aromatic: False, chiral: True\n",
      "bond order: 1, chiral: False to atom atomic num: 6, name: , idx: 4, aromatic: False, chiral: False\n",
      "bond order: 1, chiral: False to atom atomic num: 1, name: , idx: 18, aromatic: False, chiral: False\n",
      "Atom atomic num: 6, name: , idx: 7, aromatic: False, chiral: True with bonds:\n",
      "bond order: 1, chiral: False to atom atomic num: 6, name: , idx: 5, aromatic: False, chiral: False\n",
      "bond order: 1, chiral: False to atom atomic num: 6, name: , idx: 1, aromatic: False, chiral: False\n",
      "bond order: 1, chiral: False to atom atomic num: 6, name: , idx: 8, aromatic: False, chiral: False\n",
      "bond order: 1, chiral: False to atom atomic num: 6, name: , idx: 9, aromatic: False, chiral: False\n",
      "Atom atomic num: 6, name: , idx: 10, aromatic: False, chiral: True with bonds:\n",
      "bond order: 1, chiral: False to atom atomic num: 6, name: , idx: 9, aromatic: False, chiral: False\n",
      "bond order: 1, chiral: False to atom atomic num: 6, name: , idx: 3, aromatic: False, chiral: True\n",
      "bond order: 1, chiral: False to atom atomic num: 8, name: , idx: 11, aromatic: False, chiral: False\n",
      "bond order: 1, chiral: False to atom atomic num: 1, name: , idx: 26, aromatic: False, chiral: False\n",
      "\n",
      "Warning (not error because allow_undefined_stereo=True): OEMol has unspecified stereochemistry. oemol.GetTitle(): \n",
      "Problematic atoms are:\n",
      "Atom atomic num: 6, name: , idx: 3, aromatic: False, chiral: True with bonds:\n",
      "bond order: 1, chiral: False to atom atomic num: 6, name: , idx: 1, aromatic: False, chiral: False\n",
      "bond order: 1, chiral: False to atom atomic num: 6, name: , idx: 10, aromatic: False, chiral: True\n",
      "bond order: 1, chiral: False to atom atomic num: 6, name: , idx: 4, aromatic: False, chiral: False\n",
      "bond order: 1, chiral: False to atom atomic num: 1, name: , idx: 18, aromatic: False, chiral: False\n",
      "Atom atomic num: 6, name: , idx: 7, aromatic: False, chiral: True with bonds:\n",
      "bond order: 1, chiral: False to atom atomic num: 6, name: , idx: 1, aromatic: False, chiral: False\n",
      "bond order: 1, chiral: False to atom atomic num: 6, name: , idx: 5, aromatic: False, chiral: False\n",
      "bond order: 1, chiral: False to atom atomic num: 6, name: , idx: 8, aromatic: False, chiral: False\n",
      "bond order: 1, chiral: False to atom atomic num: 6, name: , idx: 9, aromatic: False, chiral: False\n",
      "Atom atomic num: 6, name: , idx: 10, aromatic: False, chiral: True with bonds:\n",
      "bond order: 1, chiral: False to atom atomic num: 6, name: , idx: 3, aromatic: False, chiral: True\n",
      "bond order: 1, chiral: False to atom atomic num: 6, name: , idx: 9, aromatic: False, chiral: False\n",
      "bond order: 1, chiral: False to atom atomic num: 8, name: , idx: 11, aromatic: False, chiral: False\n",
      "bond order: 1, chiral: False to atom atomic num: 1, name: , idx: 26, aromatic: False, chiral: False\n",
      "\n"
     ]
    }
   ],
   "source": [
    "filename = \"version.smi\"\n",
    "mols = []\n",
    "xtb_en = []\n",
    "am1_en = []\n",
    "data = {}\n",
    "\n",
    "number = 10 #float(\"inf\") # for every line\n",
    "cnt = 0\n",
    "\n",
    "with open(filename) as inputs:\n",
    "    for line in inputs:\n",
    "        if cnt >= number:\n",
    "            break\n",
    "        \n",
    "        sm_mol, v_id, p_id = line.split()\n",
    "        \n",
    "        if sm_mol == \"isosmiles\":\n",
    "            continue\n",
    "            \n",
    "        mols.append(sm_mol)\n",
    "        _xtb, _am1 = getEnergies(sm_mol)\n",
    "        xtb_en.append(_xtb)\n",
    "        am1_en.append(_am1)\n",
    "        data[sm_mol] = {\"xtb\": _xtb, \"am1\": _am1}\n",
    "        \n",
    "        if cnt % 10 == 0:\n",
    "            print(\"finished:\", cnt)\n",
    "        \n",
    "        cnt += 1"
   ]
  },
  {
   "cell_type": "code",
   "execution_count": 139,
   "id": "grateful-number",
   "metadata": {
    "scrolled": false
   },
   "outputs": [
    {
     "data": {
      "image/png": "[encoded data removed]",
      "text/plain": [
       "<Figure size 432x288 with 1 Axes>"
      ]
     },
     "metadata": {
      "needs_background": "light"
     },
     "output_type": "display_data"
    }
   ],
   "source": [
    "scat_xtb = plt.scatter(mols, xtb_en)\n",
    "scat_am1 = plt.scatter(mols, am1_en)\n",
    "plt.legend((scat_xtb, scat_am1), (\"xtb\", \"am1\"))\n",
    "plt.ylabel(\"energy kcal/mol\")\n",
    "plt.xticks(rotation=90)\n",
    "fig = plt.gcf()\n",
    "#fig.set_size_inches(18.5, 10.5)\n",
    "plt.grid(axis=\"x\")\n",
    "plt.show()"
   ]
  },
  {
   "cell_type": "code",
   "execution_count": 56,
   "id": "incorrect-pantyhose",
   "metadata": {},
   "outputs": [
    {
     "data": {
      "text/plain": [
       "0.0015936014383657207"
      ]
     },
     "execution_count": 56,
     "metadata": {},
     "output_type": "execute_result"
    }
   ],
   "source": [
    "qcel.constants.conversion_factor(\"kcal/mol\", \"hartree\")"
   ]
  },
  {
   "cell_type": "code",
   "execution_count": 13,
   "id": "anonymous-influence",
   "metadata": {},
   "outputs": [],
   "source": [
    "# pickle the data\n",
    "import pickle\n",
    "with open('xtb_am1_benchmark.pickle', 'wb') as pkfile:\n",
    "    pickle.dump(data, pkfile)"
   ]
  },
  {
   "cell_type": "code",
   "execution_count": 14,
   "id": "level-narrow",
   "metadata": {},
   "outputs": [],
   "source": [
    "#with open('xtb_am1_benchmark.pickle', 'rb') as handle:\n",
    "#    b = pickle.load(handle)\n",
    "#    print(b)"
   ]
  }
 ],
 "metadata": {
  "kernelspec": {
   "display_name": "Python 3",
   "language": "python",
   "name": "python3"
  },
  "language_info": {
   "codemirror_mode": {
    "name": "ipython",
    "version": 3
   },
   "file_extension": ".py",
   "mimetype": "text/x-python",
   "name": "python",
   "nbconvert_exporter": "python",
   "pygments_lexer": "ipython3",
   "version": "3.8.6"
  }
 },
 "nbformat": 4,
 "nbformat_minor": 5
}
