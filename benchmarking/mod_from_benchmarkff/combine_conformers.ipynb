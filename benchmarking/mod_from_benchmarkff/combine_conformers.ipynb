{
 "cells": [
  {
   "cell_type": "code",
   "execution_count": 44,
   "metadata": {},
   "outputs": [],
   "source": [
    "import os\n",
    "import openeye.oechem as oechem"
   ]
  },
  {
   "cell_type": "code",
   "execution_count": 45,
   "metadata": {},
   "outputs": [],
   "source": [
    "from collections import defaultdict\n",
    "import re\n",
    "\n",
    "def checkConsecutive(l): \n",
    "    # Source: https://tinyurl.com/y4h2dtd7\n",
    "    return sorted(l) == list(range(min(l), max(l)+1)) \n",
    "\n",
    "def natural_sort(l): \n",
    "    # Source: https://tinyurl.com/y7kfa964\n",
    "    convert = lambda text: int(text) if text.isdigit() else text.lower() \n",
    "    alphanum_key = lambda key: [ convert(c) for c in re.split('([0-9]+)', key) ] \n",
    "    return sorted(l, key = alphanum_key)"
   ]
  },
  {
   "cell_type": "markdown",
   "metadata": {},
   "source": [
    "## Open the set of molecules written from QCArchive"
   ]
  },
  {
   "cell_type": "code",
   "execution_count": 46,
   "metadata": {},
   "outputs": [],
   "source": [
    "infile = 'part.sdf'\n",
    "\n",
    "ifs = oechem.oemolistream()\n",
    "\n",
    "# OEDefaultConfTest, OEIsomericConfTest, OEOmegaConfTest, OEAbsoluteConfTest, OEAbsCanonicalConfTest\n",
    "# https://docs.eyesopen.com/toolkits/python/oechemtk/oemol.html\n",
    "ifs.SetConfTest(oechem.OEAbsCanonicalConfTest()) \n",
    "\n",
    "if not ifs.open(infile):\n",
    "    raise FileNotFoundError(f\"Unable to open {infile} for reading\")\n",
    "mols = ifs.GetOEMols()"
   ]
  },
  {
   "cell_type": "markdown",
   "metadata": {},
   "source": [
    "## Create a dictionary to identify separated molecules\n",
    "\n",
    "Here we evaluate the SMILES string of each structure (dictionary key).\n",
    "\n",
    "Then for each SMILES seen, we store a list of indices for where it's found in the whole QCArchive dataset (dictionary value). "
   ]
  },
  {
   "cell_type": "code",
   "execution_count": 47,
   "metadata": {},
   "outputs": [],
   "source": [
    "smi_dict = defaultdict(list)\n",
    "tlist = []\n",
    "index = 0\n",
    "\n",
    "for i, mol in enumerate(mols):\n",
    "    for j, conf in enumerate(mol.GetConfs()):\n",
    "        smi_dict[oechem.OEMolToSmiles(conf)].append(index)\n",
    "        tlist.append(conf.GetTitle())\n",
    "        index += 1"
   ]
  },
  {
   "cell_type": "markdown",
   "metadata": {},
   "source": [
    "## Determine which structures are split from non-consecutive indices\n",
    "\n",
    "If there are non-consecutive indices, such as `5 6 7 30 31 32`, that means this same structure has been found six times. We want to group them together."
   ]
  },
  {
   "cell_type": "code",
   "execution_count": 48,
   "metadata": {},
   "outputs": [],
   "source": [
    "fix_dict = defaultdict(list)\n",
    "\n",
    "for key, val in smi_dict.items():\n",
    "    \n",
    "    if not checkConsecutive(val):\n",
    "        fix_dict[key] = val"
   ]
  },
  {
   "cell_type": "code",
   "execution_count": 49,
   "metadata": {},
   "outputs": [
    {
     "data": {
      "text/plain": [
       "{'C(CC(C(F)F)(C(=O)O)N)C[NH3+]': [78, 82]}"
      ]
     },
     "execution_count": 49,
     "metadata": {},
     "output_type": "execute_result"
    }
   ],
   "source": [
    "# preview a few items in the dictionary\n",
    "{k: fix_dict[k] for k in list(fix_dict)[:2]}"
   ]
  },
  {
   "cell_type": "markdown",
   "metadata": {},
   "source": [
    "## Dataset details\n",
    "1. total conformers,\n",
    "2. total molecules,\n",
    "3. molecules with split up conformers"
   ]
  },
  {
   "cell_type": "code",
   "execution_count": 50,
   "metadata": {},
   "outputs": [
    {
     "name": "stdout",
     "output_type": "stream",
     "text": [
      "\n",
      " 108 24 1\n"
     ]
    }
   ],
   "source": [
    "print('\\n', len(tlist), len(smi_dict), len(fix_dict))"
   ]
  },
  {
   "cell_type": "markdown",
   "metadata": {},
   "source": [
    "## Write out lists of conformer titles by split mols and non-split mols\n",
    "\n",
    "We want to reorganize and group the split molecules but the non-split molecules are good to go.    "
   ]
  },
  {
   "cell_type": "code",
   "execution_count": 51,
   "metadata": {},
   "outputs": [
    {
     "name": "stdout",
     "output_type": "stream",
     "text": [
      "2 106\n"
     ]
    }
   ],
   "source": [
    "tlist_redo = []\n",
    "tlist_good = []\n",
    "\n",
    "for key, val in fix_dict.items():\n",
    "    for v in val:\n",
    "        tlist_redo.append(tlist[v])\n",
    "\n",
    "        \n",
    "tlist_good = natural_sort(list(set(tlist).difference(tlist_redo)))\n",
    "print(len(tlist_redo), len(tlist_good))"
   ]
  },
  {
   "cell_type": "code",
   "execution_count": 52,
   "metadata": {},
   "outputs": [
    {
     "data": {
      "text/plain": [
       "['full_83', 'full_87']"
      ]
     },
     "execution_count": 52,
     "metadata": {},
     "output_type": "execute_result"
    }
   ],
   "source": [
    "tlist_redo[:6]"
   ]
  },
  {
   "cell_type": "code",
   "execution_count": 53,
   "metadata": {},
   "outputs": [
    {
     "data": {
      "text/plain": [
       "['full_1', 'full_2', 'full_3', 'full_4', 'full_5', 'full_6']"
      ]
     },
     "execution_count": 53,
     "metadata": {},
     "output_type": "execute_result"
    }
   ],
   "source": [
    "tlist_good[:6]"
   ]
  },
  {
   "cell_type": "markdown",
   "metadata": {},
   "source": [
    "## Write titles to text files"
   ]
  },
  {
   "cell_type": "code",
   "execution_count": 54,
   "metadata": {},
   "outputs": [],
   "source": [
    "with open('titles_redo.txt', 'w') as f:\n",
    "    for item in tlist_redo:\n",
    "        f.write(\"%s\\n\" % item)"
   ]
  },
  {
   "cell_type": "code",
   "execution_count": 55,
   "metadata": {},
   "outputs": [],
   "source": [
    "with open('titles_good.txt', 'w') as f:\n",
    "    for item in tlist_good:\n",
    "        f.write(\"%s\\n\" % item)"
   ]
  },
  {
   "cell_type": "markdown",
   "metadata": {},
   "source": [
    "## Extract molecules for each set of \"redo\" and \"good\"\n",
    "I did this using molextract.py from OpenEye. The script can be found here:  \n",
    "https://docs.eyesopen.com/toolkits/python/oechemtk/oechem_examples_summary.html"
   ]
  },
  {
   "cell_type": "markdown",
   "metadata": {},
   "source": [
    "-ez feb12 2021\n",
    "\n",
    "python3 molextract.py -list titles_good.txt -i part.sdf -o part_good.sdf\n",
    "\n",
    "python3 molextract.py -list titles_redo.txt -i part.sdf -o part_redo.sdf"
   ]
  },
  {
   "cell_type": "markdown",
   "metadata": {},
   "source": [
    "## For the molextract-ed SDF file of \"titles_redo,\" group conformers by sorting indices"
   ]
  },
  {
   "cell_type": "code",
   "execution_count": 56,
   "metadata": {},
   "outputs": [],
   "source": [
    "infile = 'part_redo.sdf'\n",
    "\n",
    "ifs = oechem.oemolistream()\n",
    "\n",
    "# OEDefaultConfTest, OEIsomericConfTest, OEOmegaConfTest, OEAbsoluteConfTest, OEAbsCanonicalConfTest\n",
    "# https://docs.eyesopen.com/toolkits/python/oechemtk/oemol.html\n",
    "ifs.SetConfTest(oechem.OEAbsCanonicalConfTest()) \n",
    "\n",
    "if not ifs.open(infile):\n",
    "    raise FileNotFoundError(f\"Unable to open {infile} for reading\")\n",
    "mols = ifs.GetOEMols()"
   ]
  },
  {
   "cell_type": "markdown",
   "metadata": {},
   "source": [
    "## Get indices of how conformers should be sorted using the order of the molecule titles\n",
    "\n",
    "First get a list of all the molecules which are numerically sorted but not molecularly sorted (all same structures grouped together)."
   ]
  },
  {
   "cell_type": "code",
   "execution_count": 57,
   "metadata": {},
   "outputs": [],
   "source": [
    "list_mols = []\n",
    "list_names = []\n",
    "\n",
    "for i, mol in enumerate(mols):\n",
    "    for j, conf in enumerate(mol.GetConfs()):\n",
    "        list_mols.append(oechem.OEGraphMol(conf))\n",
    "        list_names.append(conf.GetTitle())"
   ]
  },
  {
   "cell_type": "code",
   "execution_count": 58,
   "metadata": {},
   "outputs": [
    {
     "data": {
      "text/plain": [
       "['full_83', 'full_87']"
      ]
     },
     "execution_count": 58,
     "metadata": {},
     "output_type": "execute_result"
    }
   ],
   "source": [
    "[list_mols[i].GetTitle() for i in range(len(list_mols))]"
   ]
  },
  {
   "cell_type": "markdown",
   "metadata": {},
   "source": [
    "Then for the molecule-grouped names in `tlist_redo`, get the list indices of how the molecules *should* be grouped."
   ]
  },
  {
   "cell_type": "code",
   "execution_count": 59,
   "metadata": {},
   "outputs": [],
   "source": [
    "index_redo = []\n",
    "for t in tlist_redo:\n",
    "    index_redo.append(list_names.index(t))"
   ]
  },
  {
   "cell_type": "code",
   "execution_count": 60,
   "metadata": {},
   "outputs": [
    {
     "data": {
      "text/plain": [
       "[0, 1]"
      ]
     },
     "execution_count": 60,
     "metadata": {},
     "output_type": "execute_result"
    }
   ],
   "source": [
    "index_redo[:6]"
   ]
  },
  {
   "cell_type": "markdown",
   "metadata": {},
   "source": [
    "## Sort the conformers by the numeric indices of the titles"
   ]
  },
  {
   "cell_type": "code",
   "execution_count": 61,
   "metadata": {},
   "outputs": [],
   "source": [
    "sort_mols = [list_mols[i] for i in index_redo]"
   ]
  },
  {
   "cell_type": "code",
   "execution_count": 62,
   "metadata": {},
   "outputs": [
    {
     "data": {
      "text/plain": [
       "['full_83', 'full_87']"
      ]
     },
     "execution_count": 62,
     "metadata": {},
     "output_type": "execute_result"
    }
   ],
   "source": [
    "[sort_mols[i].GetTitle() for i in range(len(sort_mols))]"
   ]
  },
  {
   "cell_type": "markdown",
   "metadata": {},
   "source": [
    "## Write output file with mols sorted by structure (titles no longer in numeric order)"
   ]
  },
  {
   "cell_type": "code",
   "execution_count": 63,
   "metadata": {},
   "outputs": [],
   "source": [
    "outfile = 'part_redosort.sdf'\n",
    "\n",
    "ofs = oechem.oemolostream()\n",
    "\n",
    "if not ofs.open(outfile):\n",
    "    oechem.OEThrow.Fatal(\"Unable to open %s for writing\" % outfile)\n",
    "\n",
    "for mol in sort_mols:\n",
    "    oechem.OEWriteConstMolecule(ofs, mol)\n",
    "ofs.close()"
   ]
  },
  {
   "cell_type": "markdown",
   "metadata": {},
   "source": [
    "## Concatenate the \"good\" set written out previously with this fixed/grouped subset\n",
    "`cat whole_02_good.sdf whole_03_redosort.sdf > whole_04_combine.sdf`"
   ]
  },
  {
   "cell_type": "markdown",
   "metadata": {},
   "source": [
    "## Read in the whole set with proper conformers"
   ]
  },
  {
   "cell_type": "code",
   "execution_count": 64,
   "metadata": {},
   "outputs": [],
   "source": [
    "infile = 'part_combine.sdf'\n",
    "\n",
    "ifs = oechem.oemolistream()\n",
    "\n",
    "# OEDefaultConfTest, OEIsomericConfTest, OEOmegaConfTest, OEAbsoluteConfTest, OEAbsCanonicalConfTest\n",
    "# https://docs.eyesopen.com/toolkits/python/oechemtk/oemol.html\n",
    "ifs.SetConfTest(oechem.OEAbsCanonicalConfTest()) \n",
    "\n",
    "if not ifs.open(infile):\n",
    "    raise FileNotFoundError(f\"Unable to open {infile} for reading\")\n",
    "mols = ifs.GetOEMols()"
   ]
  },
  {
   "cell_type": "markdown",
   "metadata": {},
   "source": [
    "## Rename titles for numeric order and write to file"
   ]
  },
  {
   "cell_type": "code",
   "execution_count": 65,
   "metadata": {},
   "outputs": [],
   "source": [
    "# open an outstream file\n",
    "outfile = 'part_renew.sdf'\n",
    "ofs = oechem.oemolostream()\n",
    "\n",
    "if not ofs.open(outfile):\n",
    "    oechem.OEThrow.Fatal(\"Unable to open %s for writing\" % outfile)\n",
    "\n",
    "for i, mol in enumerate(mols):\n",
    "    for j, conf in enumerate(mol.GetConfs()):\n",
    "        conf.SetTitle(f'full_{i+1}')\n",
    "        oechem.OEWriteConstMolecule(ofs, conf)\n",
    "ofs.close()"
   ]
  }
 ],
 "metadata": {
  "kernelspec": {
   "display_name": "Python 3",
   "language": "python",
   "name": "python3"
  },
  "language_info": {
   "codemirror_mode": {
    "name": "ipython",
    "version": 3
   },
   "file_extension": ".py",
   "mimetype": "text/x-python",
   "name": "python",
   "nbconvert_exporter": "python",
   "pygments_lexer": "ipython3",
   "version": "3.8.6"
  }
 },
 "nbformat": 4,
 "nbformat_minor": 2
}
