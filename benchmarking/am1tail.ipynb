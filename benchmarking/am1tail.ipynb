{
 "cells": [
  {
   "cell_type": "code",
   "execution_count": 10,
   "id": "outstanding-lucas",
   "metadata": {},
   "outputs": [],
   "source": [
    "import numpy as np"
   ]
  },
  {
   "cell_type": "code",
   "execution_count": 58,
   "id": "false-airline",
   "metadata": {},
   "outputs": [
    {
     "data": {
      "text/plain": [
       "(25622, 25622)"
      ]
     },
     "execution_count": 58,
     "metadata": {},
     "output_type": "execute_result"
    }
   ],
   "source": [
    "smi = []\n",
    "am1 = {}\n",
    "xtb = {}\n",
    "\n",
    "with open(\"ddE.dat\") as datafile:\n",
    "    #skip first 4 lines\n",
    "    for _ in range(4):\n",
    "        datafile.readline()\n",
    "        \n",
    "    # skip xtb data\n",
    "    for line in datafile:\n",
    "        if line[0] == \"#\":\n",
    "            break\n",
    "        smi_mol, xtb_mol = line.split()\n",
    "        xtb[smi_mol] = float(xtb_mol)\n",
    "        \n",
    "    for line in datafile:\n",
    "        smi_mol, am1_mol = line.split()\n",
    "        am1[smi_mol] = float(am1_mol)\n",
    "len(am1.keys()), len(xtb.keys())"
   ]
  },
  {
   "cell_type": "code",
   "execution_count": 73,
   "id": "handled-variety",
   "metadata": {},
   "outputs": [
    {
     "data": {
      "text/plain": [
       "'c1cc(c(cc1F)C(=O)c2nccs2)F-0'"
      ]
     },
     "execution_count": 73,
     "metadata": {},
     "output_type": "execute_result"
    }
   ],
   "source": [
    "list(am1.keys())[0]"
   ]
  },
  {
   "cell_type": "code",
   "execution_count": 61,
   "id": "hydraulic-tribune",
   "metadata": {},
   "outputs": [
    {
     "data": {
      "text/plain": [
       "(1.5269778385850812, 3.8379774945308793)"
      ]
     },
     "execution_count": 61,
     "metadata": {},
     "output_type": "execute_result"
    }
   ],
   "source": [
    "xtbsd = np.std(list(xtb.values()))\n",
    "am1sd = np.std(list(am1.values()))\n",
    "xtbsd, am1sd"
   ]
  },
  {
   "cell_type": "code",
   "execution_count": 63,
   "id": "concerned-combination",
   "metadata": {},
   "outputs": [
    {
     "data": {
      "text/plain": [
       "(6139, 6885)"
      ]
     },
     "execution_count": 63,
     "metadata": {},
     "output_type": "execute_result"
    }
   ],
   "source": [
    "am1large = {mol: energy for mol, energy in am1.items() if abs(energy) > am1sd}\n",
    "xtblarge = {mol: energy for mol, energy in xtb.items() if abs(energy) > xtbsd}\n",
    "len(xtblarge), len(am1large)"
   ]
  },
  {
   "cell_type": "code",
   "execution_count": null,
   "id": "characteristic-vampire",
   "metadata": {},
   "outputs": [],
   "source": []
  },
  {
   "cell_type": "code",
   "execution_count": 36,
   "id": "alleged-grade",
   "metadata": {},
   "outputs": [],
   "source": []
  },
  {
   "cell_type": "code",
   "execution_count": 67,
   "id": "functioning-nurse",
   "metadata": {},
   "outputs": [],
   "source": [
    "common = np.intersect1d(list(am1large.keys()), list(xtblarge.keys()))"
   ]
  },
  {
   "cell_type": "code",
   "execution_count": 68,
   "id": "missing-divide",
   "metadata": {},
   "outputs": [
    {
     "name": "stdout",
     "output_type": "stream",
     "text": [
      "size am1large: 6885\n",
      "size xtblarge: 6139\n",
      "num in common: 3403\n"
     ]
    }
   ],
   "source": [
    "print(f\"size am1large: {len(am1large)}\")\n",
    "print(f\"size xtblarge: {len(xtblarge)}\")\n",
    "print(f\"num in common: {len(common)}\")"
   ]
  },
  {
   "cell_type": "code",
   "execution_count": 70,
   "id": "rough-inventory",
   "metadata": {},
   "outputs": [],
   "source": [
    "with open(\"large_xtb.smi\", \"w\") as outfile:\n",
    "    for m, e in xtb.items():\n",
    "        outfile.write(m)\n",
    "        outfile.write(\"\\n\")\n",
    "with open(\"large_am1.smi\", \"w\") as outfile:\n",
    "    for m, e in am1.items():\n",
    "        outfile.write(m)\n",
    "        outfile.write(\"\\n\")\n",
    "with open(\"large_both.smi\", \"w\") as outfile:\n",
    "    for m in common:\n",
    "        outfile.write(m)\n",
    "        outfile.write(\"\\n\")"
   ]
  }
 ],
 "metadata": {
  "kernelspec": {
   "display_name": "Python 3",
   "language": "python",
   "name": "python3"
  },
  "language_info": {
   "codemirror_mode": {
    "name": "ipython",
    "version": 3
   },
   "file_extension": ".py",
   "mimetype": "text/x-python",
   "name": "python",
   "nbconvert_exporter": "python",
   "pygments_lexer": "ipython3",
   "version": "3.8.6"
  }
 },
 "nbformat": 4,
 "nbformat_minor": 5
}
