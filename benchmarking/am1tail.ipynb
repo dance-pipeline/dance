{
 "cells": [
  {
   "cell_type": "code",
   "execution_count": 2,
   "id": "false-airline",
   "metadata": {},
   "outputs": [],
   "source": [
    "smi = []\n",
    "am1 = []\n",
    "\n",
    "with open(\"ddE.dat\") as datafile:\n",
    "    #skip first 4 lines\n",
    "    for _ in range(4):\n",
    "        datafile.readline()\n",
    "        \n",
    "    # skip xtb data\n",
    "    while True:\n",
    "        curline = datafile.readline()\n",
    "        if curline[0] == '#':\n",
    "            break\n",
    "        \n",
    "    for line in datafile:\n",
    "        smi_mol, am1_mol = line.split()\n",
    "        smi.append(smi_mol)\n",
    "        am1.append(float(am1_mol))"
   ]
  },
  {
   "cell_type": "code",
   "execution_count": 16,
   "id": "concerned-combination",
   "metadata": {},
   "outputs": [
    {
     "data": {
      "text/plain": [
       "[('c1cc(ccc1[C@H]2C[NH2+]CCc3c2cc(c(c3Cl)[O-])O)O-2', -10.21527248073835),\n",
       " ('C[NH+](C)CCC=C1c2ccccc2C=Cc3c1cccc3-2', -6.83848173856677),\n",
       " ('C(C[C@@](C(F)F)(C(=O)[O-])[NH3+])C[NH3+]-3', -14.849278683948796),\n",
       " ('CC(C)C[C@H]1C(=O)N2CCC[C@H]2[C@]3(N1C(=O)[C@](O3)(C(C)C)NC(=O)[C@H]4C[N@]([C@@H]5Cc6c7c(cccc7[nH]c6Br)C5=C4)C)O-0',\n",
       "  -11.447618628502823),\n",
       " ('CC(C)C[C@H]1C(=O)N2CCC[C@H]2[C@]3(N1C(=O)[C@](O3)(C(C)C)NC(=O)[C@H]4C[N@]([C@@H]5Cc6c7c(cccc7[nH]c6Br)C5=C4)C)O-3',\n",
       "  -11.444189864152577),\n",
       " ('CC(C)C[C@H]1C(=O)N2CCC[C@H]2[C@]3(N1C(=O)[C@](O3)(C(C)C)NC(=O)[C@H]4C[N@]([C@@H]5Cc6c7c(cccc7[nH]c6Br)C5=C4)C)O-5',\n",
       "  -10.197968538559508),\n",
       " ('CC(C)C[C@H]1C(=O)N2CCC[C@H]2[C@]3(N1C(=O)[C@](O3)(C(C)C)NC(=O)[C@H]4C[N@]([C@@H]5Cc6c7c(cccc7[nH]c6Br)C5=C4)C)O-6',\n",
       "  -12.618661600514315),\n",
       " ('CC(C)C[C@H]1C(=O)N2CCC[C@H]2[C@]3(N1C(=O)[C@](O3)(C(C)C)NC(=O)[C@H]4C[N@H+]([C@@H]5Cc6c7c(cccc7[nH]c6Br)C5=C4)C)O-2',\n",
       "  -14.91969911151682),\n",
       " ('CC(C)C[C@H]1C(=O)N2CCC[C@H]2[C@]3(N1C(=O)[C@](O3)(C(C)C)NC(=O)[C@H]4C[N@H+]([C@@H]5Cc6c7c(cccc7[nH]c6Br)C5=C4)C)O-3',\n",
       "  -15.88580329529941),\n",
       " ('CC(C)C[C@H]1C(=O)N2CCC[C@H]2[C@]3(N1C(=O)[C@](O3)(C(C)C)NC(=O)[C@H]4C[N@H+]([C@@H]5Cc6c7c(cccc7[nH]c6Br)C5=C4)C)O-4',\n",
       "  -14.976035391562618),\n",
       " ('CC(C)C[C@H]1C(=O)N2CCC[C@H]2[C@]3(N1C(=O)[C@](O3)(C(C)C)NC(=O)[C@H]4C[N@H+]([C@@H]5Cc6c7c(cccc7[nH]c6Br)C5=C4)C)O-6',\n",
       "  -17.267840760119725),\n",
       " ('CC(C)C[C@H]1C(=O)N2CCC[C@H]2[C@]3(N1C(=O)[C@](O3)(C(C)C)NC(=O)[C@H]4C[N@@H+]([C@@H]5Cc6c7c(cccc7[nH]c6Br)C5=C4)C)O-0',\n",
       "  -6.002707065956201),\n",
       " ('CC(C)C[C@H]1C(=O)N2CCC[C@H]2[C@]3(N1C(=O)[C@](O3)(C(C)C)NC(=O)[C@H]4C[N@@H+]([C@@H]5Cc6c7c(cccc7[nH]c6Br)C5=C4)C)O-1',\n",
       "  -7.425249035761226),\n",
       " ('CC(C)C[C@H]1C(=O)N2CCC[C@H]2[C@]3(N1C(=O)[C@](O3)(C(C)C)NC(=O)[C@H]4C[N@@H+]([C@@H]5Cc6c7c(cccc7[nH]c6Br)C5=C4)C)O-3',\n",
       "  -7.601450307527557),\n",
       " ('CC(C)C[C@H]1C(=O)N2CCC[C@H]2[C@]3(N1C(=O)[C@](O3)(C(C)C)NC(=O)[C@H]4C[N@@H+]([C@@H]5Cc6c7c(cccc7[nH]c6Br)C5=C4)C)O-4',\n",
       "  -14.586242488585413),\n",
       " ('CC(C)C[C@H]1C(=O)N2CCC[C@H]2[C@]3(N1C(=O)[C@](O3)(C(C)C)NC(=O)[C@H]4C[N@@H+]([C@@H]5Cc6c7c(cccc7[nH]c6Br)C5=C4)C)O-8',\n",
       "  -7.43035239103483),\n",
       " ('CC(C)C[C@H]1C(=O)N2CCC[C@H]2[C@]3(N1C(=O)[C@](O3)(C(C)C)NC(=O)[C@H]4C[N@@H+]([C@@H]5Cc6c7c(cccc7[nH]c6Br)C5=C4)C)O-10',\n",
       "  -9.511608711036388),\n",
       " ('C(C[C@@](C(F)F)(C(=O)[O-])[NH3+])C[NH3+]-1', -8.069097712694202)]"
      ]
     },
     "execution_count": 16,
     "metadata": {},
     "output_type": "execute_result"
    }
   ],
   "source": [
    "large = [(mol, energy) for mol, energy in zip(smi, am1) if abs(energy) > 6]\n",
    "large"
   ]
  },
  {
   "cell_type": "code",
   "execution_count": 17,
   "id": "alleged-grade",
   "metadata": {},
   "outputs": [
    {
     "name": "stdout",
     "output_type": "stream",
     "text": [
      "c1cc(ccc1[C@H]2C[NH2+]CCc3c2cc(c(c3Cl)[O-])O)O-2 -10.21527248073835\n",
      "C[NH+](C)CCC=C1c2ccccc2C=Cc3c1cccc3-2 -6.83848173856677\n",
      "C(C[C@@](C(F)F)(C(=O)[O-])[NH3+])C[NH3+]-3 -14.849278683948796\n",
      "CC(C)C[C@H]1C(=O)N2CCC[C@H]2[C@]3(N1C(=O)[C@](O3)(C(C)C)NC(=O)[C@H]4C[N@]([C@@H]5Cc6c7c(cccc7[nH]c6Br)C5=C4)C)O-0 -11.447618628502823\n",
      "CC(C)C[C@H]1C(=O)N2CCC[C@H]2[C@]3(N1C(=O)[C@](O3)(C(C)C)NC(=O)[C@H]4C[N@]([C@@H]5Cc6c7c(cccc7[nH]c6Br)C5=C4)C)O-3 -11.444189864152577\n",
      "CC(C)C[C@H]1C(=O)N2CCC[C@H]2[C@]3(N1C(=O)[C@](O3)(C(C)C)NC(=O)[C@H]4C[N@]([C@@H]5Cc6c7c(cccc7[nH]c6Br)C5=C4)C)O-5 -10.197968538559508\n",
      "CC(C)C[C@H]1C(=O)N2CCC[C@H]2[C@]3(N1C(=O)[C@](O3)(C(C)C)NC(=O)[C@H]4C[N@]([C@@H]5Cc6c7c(cccc7[nH]c6Br)C5=C4)C)O-6 -12.618661600514315\n",
      "CC(C)C[C@H]1C(=O)N2CCC[C@H]2[C@]3(N1C(=O)[C@](O3)(C(C)C)NC(=O)[C@H]4C[N@H+]([C@@H]5Cc6c7c(cccc7[nH]c6Br)C5=C4)C)O-2 -14.91969911151682\n",
      "CC(C)C[C@H]1C(=O)N2CCC[C@H]2[C@]3(N1C(=O)[C@](O3)(C(C)C)NC(=O)[C@H]4C[N@H+]([C@@H]5Cc6c7c(cccc7[nH]c6Br)C5=C4)C)O-3 -15.88580329529941\n",
      "CC(C)C[C@H]1C(=O)N2CCC[C@H]2[C@]3(N1C(=O)[C@](O3)(C(C)C)NC(=O)[C@H]4C[N@H+]([C@@H]5Cc6c7c(cccc7[nH]c6Br)C5=C4)C)O-4 -14.976035391562618\n",
      "CC(C)C[C@H]1C(=O)N2CCC[C@H]2[C@]3(N1C(=O)[C@](O3)(C(C)C)NC(=O)[C@H]4C[N@H+]([C@@H]5Cc6c7c(cccc7[nH]c6Br)C5=C4)C)O-6 -17.267840760119725\n",
      "CC(C)C[C@H]1C(=O)N2CCC[C@H]2[C@]3(N1C(=O)[C@](O3)(C(C)C)NC(=O)[C@H]4C[N@@H+]([C@@H]5Cc6c7c(cccc7[nH]c6Br)C5=C4)C)O-0 -6.002707065956201\n",
      "CC(C)C[C@H]1C(=O)N2CCC[C@H]2[C@]3(N1C(=O)[C@](O3)(C(C)C)NC(=O)[C@H]4C[N@@H+]([C@@H]5Cc6c7c(cccc7[nH]c6Br)C5=C4)C)O-1 -7.425249035761226\n",
      "CC(C)C[C@H]1C(=O)N2CCC[C@H]2[C@]3(N1C(=O)[C@](O3)(C(C)C)NC(=O)[C@H]4C[N@@H+]([C@@H]5Cc6c7c(cccc7[nH]c6Br)C5=C4)C)O-3 -7.601450307527557\n",
      "CC(C)C[C@H]1C(=O)N2CCC[C@H]2[C@]3(N1C(=O)[C@](O3)(C(C)C)NC(=O)[C@H]4C[N@@H+]([C@@H]5Cc6c7c(cccc7[nH]c6Br)C5=C4)C)O-4 -14.586242488585413\n",
      "CC(C)C[C@H]1C(=O)N2CCC[C@H]2[C@]3(N1C(=O)[C@](O3)(C(C)C)NC(=O)[C@H]4C[N@@H+]([C@@H]5Cc6c7c(cccc7[nH]c6Br)C5=C4)C)O-8 -7.43035239103483\n",
      "CC(C)C[C@H]1C(=O)N2CCC[C@H]2[C@]3(N1C(=O)[C@](O3)(C(C)C)NC(=O)[C@H]4C[N@@H+]([C@@H]5Cc6c7c(cccc7[nH]c6Br)C5=C4)C)O-10 -9.511608711036388\n",
      "C(C[C@@](C(F)F)(C(=O)[O-])[NH3+])C[NH3+]-1 -8.069097712694202\n"
     ]
    }
   ],
   "source": [
    "_ = [print(x, _) for x, _ in large]"
   ]
  },
  {
   "cell_type": "code",
   "execution_count": 19,
   "id": "rough-inventory",
   "metadata": {},
   "outputs": [],
   "source": [
    "with open(\"optimization_inputs.smi\", \"w\") as outfile:\n",
    "    for m, e in large:\n",
    "        outfile.write(m)\n",
    "        outfile.write(\"\\n\")"
   ]
  }
 ],
 "metadata": {
  "kernelspec": {
   "display_name": "Python 3",
   "language": "python",
   "name": "python3"
  },
  "language_info": {
   "codemirror_mode": {
    "name": "ipython",
    "version": 3
   },
   "file_extension": ".py",
   "mimetype": "text/x-python",
   "name": "python",
   "nbconvert_exporter": "python",
   "pygments_lexer": "ipython3",
   "version": "3.8.6"
  }
 },
 "nbformat": 4,
 "nbformat_minor": 5
}
